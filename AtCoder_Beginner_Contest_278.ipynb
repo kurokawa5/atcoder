{
  "nbformat": 4,
  "nbformat_minor": 0,
  "metadata": {
    "colab": {
      "provenance": [],
      "authorship_tag": "ABX9TyMcf7JbbN7q4cVF2QU2QkDd",
      "include_colab_link": true
    },
    "kernelspec": {
      "name": "python3",
      "display_name": "Python 3"
    },
    "language_info": {
      "name": "python"
    }
  },
  "cells": [
    {
      "cell_type": "markdown",
      "metadata": {
        "id": "view-in-github",
        "colab_type": "text"
      },
      "source": [
        "<a href=\"https://colab.research.google.com/github/kurokawa5/atcoder/blob/main/AtCoder_Beginner_Contest_278.ipynb\" target=\"_parent\"><img src=\"https://colab.research.google.com/assets/colab-badge.svg\" alt=\"Open In Colab\"/></a>"
      ]
    },
    {
      "cell_type": "markdown",
      "source": [
        "### A - Shift"
      ],
      "metadata": {
        "id": "s6NFuisH2Jzp"
      }
    },
    {
      "cell_type": "code",
      "source": [
        "# Input\n",
        "# 3 4\n",
        "# 9 9 9\n",
        "# Output\n",
        "# 0 0 0"
      ],
      "metadata": {
        "id": "EDQIM7Fh3d8L"
      },
      "execution_count": 26,
      "outputs": []
    },
    {
      "cell_type": "code",
      "execution_count": 21,
      "metadata": {
        "id": "xLRcWZdL0J0_"
      },
      "outputs": [],
      "source": [
        "# Input\n",
        "# 9 5\n",
        "# 1 2 3 4 5 6 7 8 9\n",
        "# Output\n",
        "# 6 7 8 9 0 0 0 0 0"
      ]
    },
    {
      "cell_type": "code",
      "source": [
        "# Input\n",
        "# 3 3\n",
        "# 1 2 3\n",
        "# Output\n",
        "# 0 0 0"
      ],
      "metadata": {
        "id": "OLC50_EC5dxD"
      },
      "execution_count": null,
      "outputs": []
    },
    {
      "cell_type": "code",
      "source": [
        "# Input\n",
        "# 1 1\n",
        "# 1\n",
        "# Output\n",
        "# 0"
      ],
      "metadata": {
        "id": "4OGLZVnF5qHe"
      },
      "execution_count": 37,
      "outputs": []
    },
    {
      "cell_type": "code",
      "source": [
        "# Input\n",
        "# 15 10\n",
        "# 1 2 3 4 5 6 7 8 9 10 11 12 13 14 15\n",
        "# Output\n",
        "# 0 0 0"
      ],
      "metadata": {
        "id": "-bXWokrd6yjK"
      },
      "execution_count": null,
      "outputs": []
    },
    {
      "cell_type": "code",
      "source": [
        "N, K = map(int, input().split())"
      ],
      "metadata": {
        "colab": {
          "base_uri": "https://localhost:8080/"
        },
        "id": "TZ98qml70ZQp",
        "outputId": "a3c9c216-da0f-41a4-d67b-106580c8a6d5"
      },
      "execution_count": 62,
      "outputs": [
        {
          "name": "stdout",
          "output_type": "stream",
          "text": [
            "3 4\n"
          ]
        }
      ]
    },
    {
      "cell_type": "code",
      "source": [
        "A = list(map(int, input().split()))"
      ],
      "metadata": {
        "colab": {
          "base_uri": "https://localhost:8080/"
        },
        "id": "Z-1vNsA_0r6O",
        "outputId": "e3689d4f-935a-4695-c3e0-58a41ed4c1e9"
      },
      "execution_count": 63,
      "outputs": [
        {
          "name": "stdout",
          "output_type": "stream",
          "text": [
            "9 9 9\n"
          ]
        }
      ]
    },
    {
      "cell_type": "code",
      "source": [
        "A_len = len(A)\n",
        "\n",
        "if K >= A_len:\n",
        "  ans = [0] * A_len\n",
        "\n",
        "else:\n",
        "    ans = A[K:]\n",
        "   \n",
        "    for item in range(K):\n",
        "        ans.append(0)\n",
        "\n",
        "print(*ans)"
      ],
      "metadata": {
        "colab": {
          "base_uri": "https://localhost:8080/"
        },
        "id": "dqWW9Ri-0644",
        "outputId": "86a308d9-c27d-40f6-e529-26987696be8c"
      },
      "execution_count": 64,
      "outputs": [
        {
          "output_type": "stream",
          "name": "stdout",
          "text": [
            "3\n"
          ]
        }
      ]
    },
    {
      "cell_type": "markdown",
      "source": [
        "### B - Misjudge the Time"
      ],
      "metadata": {
        "id": "ex7-mxi5-BFo"
      }
    },
    {
      "cell_type": "code",
      "source": [
        "# Input\n",
        "# 1 23\n",
        "# Output\n",
        "# 1 23"
      ],
      "metadata": {
        "id": "J_uVsf6-2H7w"
      },
      "execution_count": 65,
      "outputs": []
    },
    {
      "cell_type": "code",
      "source": [
        "# Input\n",
        "# 19 57\n",
        "# Output\n",
        "# 20 0"
      ],
      "metadata": {
        "id": "VqSEnquKGAq3"
      },
      "execution_count": null,
      "outputs": []
    },
    {
      "cell_type": "code",
      "source": [
        "h, m = map(int, input().split())"
      ],
      "metadata": {
        "colab": {
          "base_uri": "https://localhost:8080/"
        },
        "id": "CXEe-P_a3n25",
        "outputId": "4f06187f-88d8-48bc-da64-a81e975b3ec6"
      },
      "execution_count": 97,
      "outputs": [
        {
          "name": "stdout",
          "output_type": "stream",
          "text": [
            "19 57\n"
          ]
        }
      ]
    },
    {
      "cell_type": "code",
      "source": [
        "flag = 0\n",
        "while flag == 0:\n",
        "\n",
        "    h = str(h).zfill(2)\n",
        "    m = str(m).zfill(2) \n",
        "\n",
        "    h1 = h[0]\n",
        "    h2 = h[1]\n",
        "    m1 = m[0]\n",
        "    m2 = m[1]\n",
        "    \n",
        "    temp = h2\n",
        "    h2 = m1\n",
        "    m1 = temp\n",
        "\n",
        "    h_switch = int(h1 + h2)\n",
        "    m_switch = int(m1 + m2)\n",
        "\n",
        "    if 23 >= h_switch:\n",
        "        if 59 >= m_switch:\n",
        "            ans = h + \" \" + m\n",
        "            print(ans)\n",
        "            flag = 1\n",
        "    \n",
        "    m = int(m) + 1\n",
        "\n",
        "    if m > 59:\n",
        "        m = '0'\n",
        "        h = int(h) + 1\n",
        "        if h > 23:\n",
        "          h = '0'\n",
        "\n",
        "        "
      ],
      "metadata": {
        "colab": {
          "base_uri": "https://localhost:8080/"
        },
        "id": "W93JqjyKFxYX",
        "outputId": "f88175a3-9d16-4e59-bdd3-c309933cbb96"
      },
      "execution_count": 99,
      "outputs": [
        {
          "output_type": "stream",
          "name": "stdout",
          "text": [
            "20 00\n"
          ]
        }
      ]
    },
    {
      "cell_type": "code",
      "source": [],
      "metadata": {
        "id": "O3w8U5RaGdkT"
      },
      "execution_count": null,
      "outputs": []
    }
  ]
}