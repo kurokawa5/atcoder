{
  "nbformat": 4,
  "nbformat_minor": 0,
  "metadata": {
    "colab": {
      "provenance": [],
      "authorship_tag": "ABX9TyPsgfYTselZKKQHzsB3pC4k",
      "include_colab_link": true
    },
    "kernelspec": {
      "name": "python3",
      "display_name": "Python 3"
    },
    "language_info": {
      "name": "python"
    }
  },
  "cells": [
    {
      "cell_type": "markdown",
      "metadata": {
        "id": "view-in-github",
        "colab_type": "text"
      },
      "source": [
        "<a href=\"https://colab.research.google.com/github/kurokawa5/atcoder_practice/blob/main/ABC_313/D_LOWER_.ipynb\" target=\"_parent\"><img src=\"https://colab.research.google.com/assets/colab-badge.svg\" alt=\"Open In Colab\"/></a>"
      ]
    },
    {
      "cell_type": "code",
      "execution_count": 12,
      "metadata": {
        "colab": {
          "base_uri": "https://localhost:8080/"
        },
        "id": "Z01-uKcR7sv1",
        "outputId": "706bc147-3f99-49f4-e012-1b4dae435b20"
      },
      "outputs": [
        {
          "output_type": "stream",
          "name": "stdout",
          "text": [
            "7\n",
            "AtCoder\n",
            "5\n",
            "1 4 i\n",
            "3 0 a\n",
            "1 5 b\n",
            "2 0 a\n",
            "1 4 Y\n",
            "atcYber\n"
          ]
        }
      ],
      "source": [
        "input()\n",
        "S=list(input())\n",
        "Q=int(input())\n",
        "query=[input().split() for _ in range(Q)]\n",
        "last=-1\n",
        "for i,(t,_,_) in enumerate(query):\n",
        "  if t=='2' or t=='3': last=i\n",
        "\n",
        "for i,(t,x,c) in enumerate(query):\n",
        "  if t=='1':\n",
        "    S[int(x)-1]=c\n",
        "  elif t=='2':\n",
        "    if i==last:\n",
        "      S=list(\"\".join(S).lower())\n",
        "  else:\n",
        "    if i==last:\n",
        "      S=list(\"\".join(S).upper())\n",
        "\n",
        "print(\"\".join(S))"
      ]
    },
    {
      "cell_type": "code",
      "source": [],
      "metadata": {
        "id": "4xKRtNWeAUm2"
      },
      "execution_count": null,
      "outputs": []
    }
  ]
}