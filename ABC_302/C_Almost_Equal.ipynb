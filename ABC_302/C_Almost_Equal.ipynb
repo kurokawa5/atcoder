{
  "nbformat": 4,
  "nbformat_minor": 0,
  "metadata": {
    "colab": {
      "provenance": [],
      "authorship_tag": "ABX9TyNjUFArQ96FohIpWFPAC8uc",
      "include_colab_link": true
    },
    "kernelspec": {
      "name": "python3",
      "display_name": "Python 3"
    },
    "language_info": {
      "name": "python"
    }
  },
  "cells": [
    {
      "cell_type": "markdown",
      "metadata": {
        "id": "view-in-github",
        "colab_type": "text"
      },
      "source": [
        "<a href=\"https://colab.research.google.com/github/kurokawa5/atcoder_practice/blob/main/ABC_302/C_Almost_Equal.ipynb\" target=\"_parent\"><img src=\"https://colab.research.google.com/assets/colab-badge.svg\" alt=\"Open In Colab\"/></a>"
      ]
    },
    {
      "cell_type": "markdown",
      "source": [
        "## C - Almost Equal"
      ],
      "metadata": {
        "id": "Y5Bnnc7BI2tx"
      }
    },
    {
      "cell_type": "code",
      "execution_count": null,
      "metadata": {
        "colab": {
          "base_uri": "https://localhost:8080/"
        },
        "id": "GmrSWUugOB1K",
        "outputId": "7b0f577d-4b94-4978-c1e0-541d14c188f8"
      },
      "outputs": [
        {
          "output_type": "stream",
          "name": "stdout",
          "text": [
            "8 4\n",
            "fast\n",
            "face\n",
            "cast\n",
            "race\n",
            "fact\n",
            "rice\n",
            "nice\n",
            "case\n",
            "Yes\n"
          ]
        }
      ],
      "source": [
        "from itertools import permutations\n",
        "\n",
        "def can_transform(s1, s2):\n",
        "    diff_count = 0\n",
        "    for c1, c2 in zip(s1, s2):\n",
        "        if c1 != c2:\n",
        "            diff_count += 1\n",
        "        if diff_count > 1:\n",
        "            return False\n",
        "    return diff_count == 1\n",
        "\n",
        "def main():\n",
        "    N, M = map(int, input().split())\n",
        "    strings = [input() for _ in range(N)]\n",
        "\n",
        "    for perm in permutations(strings):\n",
        "        for i in range(N - 1):\n",
        "            if not can_transform(perm[i], perm[i + 1]):\n",
        "                break\n",
        "        else:\n",
        "            print(\"Yes\")\n",
        "            return\n",
        "    print(\"No\")\n",
        "\n",
        "if __name__ == \"__main__\":\n",
        "    main()"
      ]
    },
    {
      "cell_type": "code",
      "source": [
        "8 4\n",
        "fast\n",
        "face\n",
        "cast\n",
        "race\n",
        "fact\n",
        "rice\n",
        "nice\n",
        "case\n"
      ],
      "metadata": {
        "id": "Or-0xXuJOQTc"
      },
      "execution_count": null,
      "outputs": []
    },
    {
      "cell_type": "code",
      "source": [
        "2 5\n",
        "abcde\n",
        "abced\n"
      ],
      "metadata": {
        "id": "kplVW0RKOM1C"
      },
      "execution_count": null,
      "outputs": []
    },
    {
      "cell_type": "code",
      "source": [
        "4 4\n",
        "bbed\n",
        "abcd\n",
        "abed\n",
        "fbed\n"
      ],
      "metadata": {
        "id": "xM3c8BWPOCK2"
      },
      "execution_count": null,
      "outputs": []
    }
  ]
}