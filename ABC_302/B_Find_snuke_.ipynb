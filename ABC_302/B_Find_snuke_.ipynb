{
  "nbformat": 4,
  "nbformat_minor": 0,
  "metadata": {
    "colab": {
      "provenance": [],
      "authorship_tag": "ABX9TyOHit1zFVwayhDR/agsb40Q",
      "include_colab_link": true
    },
    "kernelspec": {
      "name": "python3",
      "display_name": "Python 3"
    },
    "language_info": {
      "name": "python"
    }
  },
  "cells": [
    {
      "cell_type": "markdown",
      "metadata": {
        "id": "view-in-github",
        "colab_type": "text"
      },
      "source": [
        "<a href=\"https://colab.research.google.com/github/kurokawa5/atcoder_practice/blob/main/ABC_302/B_Find_snuke_.ipynb\" target=\"_parent\"><img src=\"https://colab.research.google.com/assets/colab-badge.svg\" alt=\"Open In Colab\"/></a>"
      ]
    },
    {
      "cell_type": "markdown",
      "source": [
        "## B - Find snuke "
      ],
      "metadata": {
        "id": "E5FciORJBW9L"
      }
    },
    {
      "cell_type": "code",
      "source": [
        "def main():\n",
        "    H, W = map(int, input().split())\n",
        "    S = [input() for _ in range(H)]\n",
        "\n",
        "    # 各マスを順番に調べる\n",
        "    for i in range(H):\n",
        "        for j in range(W):\n",
        "            # そのマスに書かれた文字が 's' の場合\n",
        "            if S[i][j] == 's':\n",
        "                # 縦・横・ななめの方向に連続して 's', 'n', 'u', 'k', 'e' が並んでいるか調べる\n",
        "                for di, dj in [(-1, 0), (1, 0), (0, -1), (0, 1), (-1, -1), (-1, 1), (1, -1), (1, 1)]:\n",
        "                    for k in range(1, 5):\n",
        "                        ni, nj = i + k * di, j + k * dj\n",
        "                        if not (0 <= ni < H and 0 <= nj < W) or S[ni][nj] != \"snuke\"[k]:\n",
        "                            break\n",
        "                    else:\n",
        "                        # 連続して並んでいる場所が見つかったら、その場所の座標を出力する\n",
        "                        for k in range(5):\n",
        "                            print(i + k * di + 1, j + k * dj + 1)\n",
        "\n",
        "if __name__ == \"__main__\":\n",
        "    main()"
      ],
      "metadata": {
        "colab": {
          "base_uri": "https://localhost:8080/"
        },
        "id": "XYaDiL4yLol9",
        "outputId": "e2918045-8db8-4257-ae2d-7045e1314197"
      },
      "execution_count": null,
      "outputs": [
        {
          "output_type": "stream",
          "name": "stdout",
          "text": [
            "10 10\n",
            "kseeusenuk\n",
            "usesenesnn\n",
            "kskekeeses\n",
            "nesnusnkkn\n",
            "snenuuenke\n",
            "kukknkeuss\n",
            "neunnennue\n",
            "sknuessuku\n",
            "nksneekknk\n",
            "neeeuknenk\n",
            "9 3\n",
            "8 3\n",
            "7 3\n",
            "6 3\n",
            "5 3\n"
          ]
        }
      ]
    },
    {
      "cell_type": "code",
      "source": [
        "10 10\n",
        "kseeusenuk\n",
        "usesenesnn\n",
        "kskekeeses\n",
        "nesnusnkkn\n",
        "snenuuenke\n",
        "kukknkeuss\n",
        "neunnennue\n",
        "sknuessuku\n",
        "nksneekknk\n",
        "neeeuknenk"
      ],
      "metadata": {
        "id": "av3BDw-zL4PP"
      },
      "execution_count": null,
      "outputs": []
    },
    {
      "cell_type": "code",
      "source": [
        "6 6\n",
        "vgxgpu\n",
        "amkxks\n",
        "zhkbpp\n",
        "hykink\n",
        "esnuke\n",
        "zplvfj"
      ],
      "metadata": {
        "id": "tBS_ofvFGa3B"
      },
      "execution_count": null,
      "outputs": []
    },
    {
      "cell_type": "code",
      "source": [
        "5 5\n",
        "ezzzz\n",
        "zkzzz\n",
        "ezuzs\n",
        "zzznz\n",
        "zzzzs"
      ],
      "metadata": {
        "id": "1HbYBVZNGptg"
      },
      "execution_count": null,
      "outputs": []
    },
    {
      "cell_type": "code",
      "source": [
        "#https://atcoder.jp/contests/abc302/editorial/6404"
      ],
      "metadata": {
        "id": "BsXr069wBeZN"
      },
      "execution_count": null,
      "outputs": []
    }
  ]
}