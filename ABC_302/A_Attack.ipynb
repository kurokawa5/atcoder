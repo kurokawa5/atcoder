{
  "nbformat": 4,
  "nbformat_minor": 0,
  "metadata": {
    "colab": {
      "provenance": [],
      "authorship_tag": "ABX9TyOdkBVulJBJfSwsxS9rCwH4",
      "include_colab_link": true
    },
    "kernelspec": {
      "name": "python3",
      "display_name": "Python 3"
    },
    "language_info": {
      "name": "python"
    }
  },
  "cells": [
    {
      "cell_type": "markdown",
      "metadata": {
        "id": "view-in-github",
        "colab_type": "text"
      },
      "source": [
        "<a href=\"https://colab.research.google.com/github/kurokawa5/atcoder_practice/blob/main/ABC_302/A_Attack.ipynb\" target=\"_parent\"><img src=\"https://colab.research.google.com/assets/colab-badge.svg\" alt=\"Open In Colab\"/></a>"
      ]
    },
    {
      "cell_type": "markdown",
      "source": [
        "## A - Attack "
      ],
      "metadata": {
        "id": "z2Ilvdx-AdAJ"
      }
    },
    {
      "cell_type": "code",
      "execution_count": null,
      "metadata": {
        "colab": {
          "base_uri": "https://localhost:8080/"
        },
        "id": "WagkdzwDCrOd",
        "outputId": "f3f41178-8548-4657-a8e1-8f95871aea0d"
      },
      "outputs": [
        {
          "output_type": "stream",
          "name": "stdout",
          "text": [
            "123456789123456789 987654321\n",
            "124999999\n"
          ]
        }
      ],
      "source": [
        "import math\n",
        "\n",
        "A, B = map(int, input().split())\n",
        "#attack_count = math.ceil((A - 1) / (B - 1))\n",
        "attack_count = (A + B - 1) // B\n",
        "print(attack_count)"
      ]
    },
    {
      "cell_type": "code",
      "source": [
        "#https://atcoder.jp/contests/abc302/editorial/6407"
      ],
      "metadata": {
        "id": "ZeZNUgJkCyL2"
      },
      "execution_count": null,
      "outputs": []
    }
  ]
}