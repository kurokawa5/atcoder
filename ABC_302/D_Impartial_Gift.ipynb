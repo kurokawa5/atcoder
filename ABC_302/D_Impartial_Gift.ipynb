{
  "nbformat": 4,
  "nbformat_minor": 0,
  "metadata": {
    "colab": {
      "provenance": [],
      "authorship_tag": "ABX9TyP1InhOFdf9F/CknoNKKlKl",
      "include_colab_link": true
    },
    "kernelspec": {
      "name": "python3",
      "display_name": "Python 3"
    },
    "language_info": {
      "name": "python"
    }
  },
  "cells": [
    {
      "cell_type": "markdown",
      "metadata": {
        "id": "view-in-github",
        "colab_type": "text"
      },
      "source": [
        "<a href=\"https://colab.research.google.com/github/kurokawa5/atcoder_practice/blob/main/ABC_302/D_Impartial_Gift.ipynb\" target=\"_parent\"><img src=\"https://colab.research.google.com/assets/colab-badge.svg\" alt=\"Open In Colab\"/></a>"
      ]
    },
    {
      "cell_type": "markdown",
      "source": [
        "## D - Impartial Gift"
      ],
      "metadata": {
        "id": "baBKm9H0QB5c"
      }
    },
    {
      "cell_type": "code",
      "source": [
        "from bisect import bisect_right\n",
        "\n",
        "def main():\n",
        "    N, M, D = map(int, input().split())\n",
        "    A = sorted(list(map(int, input().split())))\n",
        "    B = sorted(list(map(int, input().split())))\n",
        "\n",
        "    ans = -1\n",
        "    for a in A:\n",
        "        idx = bisect_right(B, a + D)\n",
        "        if idx > 0 and B[idx - 1] >= a - D:\n",
        "            ans = max(ans, a + B[idx - 1])\n",
        "\n",
        "    print(ans)\n",
        "\n",
        "if __name__ == \"__main__\":\n",
        "    main()"
      ],
      "metadata": {
        "colab": {
          "base_uri": "https://localhost:8080/"
        },
        "id": "xM8PfN6bVucU",
        "outputId": "4d8bc05a-e8b9-4512-9512-eecfd5c3f642"
      },
      "execution_count": null,
      "outputs": [
        {
          "output_type": "stream",
          "name": "stdout",
          "text": [
            "2 3 2\n",
            "3 10\n",
            "2 5 15\n",
            "8\n"
          ]
        }
      ]
    },
    {
      "cell_type": "code",
      "source": [
        "8 6 1\n",
        "2 5 6 5 2 1 7 9\n",
        "7 2 5 5 2 4\n"
      ],
      "metadata": {
        "id": "44IJmS6HSjzk"
      },
      "execution_count": null,
      "outputs": []
    },
    {
      "cell_type": "code",
      "source": [
        "1 1 1000000000000000000\n",
        "1000000000000000000\n",
        "1000000000000000000\n"
      ],
      "metadata": {
        "id": "fFhQIAloSd-a"
      },
      "execution_count": null,
      "outputs": []
    },
    {
      "cell_type": "code",
      "source": [
        "3 3 0\n",
        "1 3 3\n",
        "6 2 7\n"
      ],
      "metadata": {
        "id": "ScE1QcBFSZfL"
      },
      "execution_count": null,
      "outputs": []
    },
    {
      "cell_type": "code",
      "source": [
        "2 3 2\n",
        "3 10\n",
        "2 5 15\n"
      ],
      "metadata": {
        "id": "J6a5646TRNHL"
      },
      "execution_count": null,
      "outputs": []
    }
  ]
}