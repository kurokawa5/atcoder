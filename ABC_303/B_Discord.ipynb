{
  "nbformat": 4,
  "nbformat_minor": 0,
  "metadata": {
    "colab": {
      "provenance": [],
      "authorship_tag": "ABX9TyPv+YqrkHB/Sev9OP/iZcIn",
      "include_colab_link": true
    },
    "kernelspec": {
      "name": "python3",
      "display_name": "Python 3"
    },
    "language_info": {
      "name": "python"
    }
  },
  "cells": [
    {
      "cell_type": "markdown",
      "metadata": {
        "id": "view-in-github",
        "colab_type": "text"
      },
      "source": [
        "<a href=\"https://colab.research.google.com/github/kurokawa5/atcoder_practice/blob/main/ABC_303/B_Discord.ipynb\" target=\"_parent\"><img src=\"https://colab.research.google.com/assets/colab-badge.svg\" alt=\"Open In Colab\"/></a>"
      ]
    },
    {
      "cell_type": "code",
      "execution_count": 2,
      "metadata": {
        "colab": {
          "base_uri": "https://localhost:8080/"
        },
        "id": "LEJ6MG9_HfB_",
        "outputId": "0d011fd1-864a-44bb-c96e-cb6cbbcf2004"
      },
      "outputs": [
        {
          "output_type": "stream",
          "name": "stdout",
          "text": [
            "4 2\n",
            "1 2 3 4\n",
            "4 3 1 2\n",
            "[(1, 2), (1, 3), (1, 4), (2, 3), (2, 4), (3, 4)]\n",
            "[1, 2, 3, 4]\n",
            "[(1, 2), (1, 3), (1, 4), (2, 3), (2, 4), (3, 4)]\n",
            "[4, 3, 1, 2]\n",
            "[(1, 2), (1, 3), (1, 4), (2, 3), (2, 4), (3, 4)]\n",
            "[1, 2, 3, 4]\n",
            "[(1, 2), (1, 3), (1, 4), (2, 3), (2, 4), (3, 4)]\n",
            "[1, 2, 3, 4]\n",
            "2\n"
          ]
        }
      ],
      "source": [
        "from itertools import combinations\n",
        "\n",
        "def main():\n",
        "    N, M = map(int, input().split())\n",
        "    photos = [list(map(int, input().split())) for _ in range(M)]\n",
        "\n",
        "    # N人の全てのペアを作成\n",
        "    pairs = list(combinations(range(1, N+1), 2))\n",
        "\n",
        "    # 各ペアがM回の撮影で一度も連続して並ばなかったかどうかをチェック\n",
        "    ans = 0\n",
        "    for x, y in pairs:\n",
        "        for photo in photos:\n",
        "            if abs(photo.index(x) - photo.index(y)) == 1:\n",
        "                print(pairs)\n",
        "                print(photo)\n",
        "                break\n",
        "        else:\n",
        "            ans += 1\n",
        "\n",
        "    print(ans)\n",
        "\n",
        "if __name__ == \"__main__\":\n",
        "    main()"
      ]
    },
    {
      "cell_type": "code",
      "source": [
        "4 2\n",
        "1 2 3 4\n",
        "4 3 1 2\n"
      ],
      "metadata": {
        "id": "-ltsFyJ7Hgx6"
      },
      "execution_count": null,
      "outputs": []
    }
  ]
}