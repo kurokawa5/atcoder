{
  "nbformat": 4,
  "nbformat_minor": 0,
  "metadata": {
    "colab": {
      "provenance": [],
      "authorship_tag": "ABX9TyPpMHeSntE9NbG+mvBbrN2d",
      "include_colab_link": true
    },
    "kernelspec": {
      "name": "python3",
      "display_name": "Python 3"
    },
    "language_info": {
      "name": "python"
    }
  },
  "cells": [
    {
      "cell_type": "markdown",
      "metadata": {
        "id": "view-in-github",
        "colab_type": "text"
      },
      "source": [
        "<a href=\"https://colab.research.google.com/github/kurokawa5/atcoder_practice/blob/main/ABC_303/A_Similar_String.ipynb\" target=\"_parent\"><img src=\"https://colab.research.google.com/assets/colab-badge.svg\" alt=\"Open In Colab\"/></a>"
      ]
    },
    {
      "cell_type": "code",
      "execution_count": null,
      "metadata": {
        "colab": {
          "base_uri": "https://localhost:8080/"
        },
        "id": "QzVesBMVFU9L",
        "outputId": "648342c7-d490-4078-c073-2aa018dc1a3c"
      },
      "outputs": [
        {
          "output_type": "stream",
          "name": "stdout",
          "text": [
            "3\n",
            "l0w\n",
            "1ow\n",
            "Yes\n"
          ]
        }
      ],
      "source": [
        "def is_similar(x, y):\n",
        "    if x == y:\n",
        "        return True\n",
        "    if (x == '1' and y == 'l') or (x == 'l' and y == '1'):\n",
        "        return True\n",
        "    if (x == '0' and y == 'o') or (x == 'o' and y == '0'):\n",
        "        return True\n",
        "    return False\n",
        "\n",
        "N = int(input())\n",
        "S = input()\n",
        "T = input()\n",
        "\n",
        "similar = True\n",
        "for i in range(N):\n",
        "    if not is_similar(S[i], T[i]):\n",
        "        similar = False\n",
        "        break\n",
        "\n",
        "if similar:\n",
        "    print(\"Yes\")\n",
        "else:\n",
        "    print(\"No\")"
      ]
    },
    {
      "cell_type": "code",
      "source": [],
      "metadata": {
        "id": "aLY-ll5FGl82"
      },
      "execution_count": null,
      "outputs": []
    }
  ]
}