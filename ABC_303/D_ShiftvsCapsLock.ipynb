{
  "nbformat": 4,
  "nbformat_minor": 0,
  "metadata": {
    "colab": {
      "provenance": [],
      "authorship_tag": "ABX9TyOB8d7cve6KdykfI8bXkIs3",
      "include_colab_link": true
    },
    "kernelspec": {
      "name": "python3",
      "display_name": "Python 3"
    },
    "language_info": {
      "name": "python"
    }
  },
  "cells": [
    {
      "cell_type": "markdown",
      "metadata": {
        "id": "view-in-github",
        "colab_type": "text"
      },
      "source": [
        "<a href=\"https://colab.research.google.com/github/kurokawa5/atcoder_practice/blob/main/ABC_303/D_ShiftvsCapsLock.ipynb\" target=\"_parent\"><img src=\"https://colab.research.google.com/assets/colab-badge.svg\" alt=\"Open In Colab\"/></a>"
      ]
    },
    {
      "cell_type": "code",
      "execution_count": 1,
      "metadata": {
        "colab": {
          "base_uri": "https://localhost:8080/"
        },
        "id": "4kK6-PJjIq5n",
        "outputId": "7dd3d31c-8482-4bd9-e0c3-4d28a2447234"
      },
      "outputs": [
        {
          "output_type": "stream",
          "name": "stdout",
          "text": [
            "1 3 3\n",
            "AAaA\n",
            "9\n"
          ]
        }
      ],
      "source": [
        "def main():\n",
        "    X, Y, Z = map(int, input().split())\n",
        "    S = input()\n",
        "\n",
        "    # dpテーブルの初期化\n",
        "    dp = [[float('inf')] * 2 for _ in range(len(S) + 1)]\n",
        "    dp[0][0] = 0\n",
        "    dp[0][1] = Z\n",
        "\n",
        "    # dpテーブルの更新\n",
        "    for i in range(len(S)):\n",
        "        for j in range(2):\n",
        "            cost = X if (S[i] == 'a') == (j == 0) else Y\n",
        "            dp[i+1][j] = min(dp[i+1][j], dp[i][j] + cost)\n",
        "            dp[i+1][1 - j] = min(dp[i+1][1 - j], dp[i][j] + cost + Z)\n",
        "\n",
        "    # 答えの出力\n",
        "    print(min(dp[len(S)][0], dp[len(S)][1]))\n",
        "\n",
        "if __name__ == '__main__':\n",
        "    main()"
      ]
    },
    {
      "cell_type": "code",
      "source": [],
      "metadata": {
        "id": "JjLxsSCcIrqt"
      },
      "execution_count": null,
      "outputs": []
    }
  ]
}